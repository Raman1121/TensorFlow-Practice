{
 "cells": [
  {
   "cell_type": "markdown",
   "metadata": {
    "colab_type": "text",
    "id": "L0OcGvGQjZle"
   },
   "source": [
    "# Creating a Keras Callback that sends notifications on Whatsapp"
   ]
  },
  {
   "cell_type": "code",
   "execution_count": 0,
   "metadata": {
    "colab": {},
    "colab_type": "code",
    "id": "xBZ5i3K_Np-W"
   },
   "outputs": [],
   "source": [
    "!pip install twilio"
   ]
  },
  {
   "cell_type": "code",
   "execution_count": 0,
   "metadata": {
    "colab": {},
    "colab_type": "code",
    "id": "S9rkwsi9NzNu"
   },
   "outputs": [],
   "source": [
    "from tensorflow.keras.layers import Dense\n",
    "from sklearn.datasets import make_classification\n",
    "#from twilio.rest import Client\n",
    "from tensorflow.keras.callbacks import Callback\n",
    "from tensorflow.keras.models import Sequential\n",
    "from tensorflow.keras import backend as K\n",
    "from sklearn.model_selection import cross_val_score\n",
    "from sklearn.preprocessing import LabelEncoder\n",
    "from sklearn.model_selection import StratifiedKFold, train_test_split"
   ]
  },
  {
   "cell_type": "code",
   "execution_count": 2,
   "metadata": {
    "colab": {
     "base_uri": "https://localhost:8080/",
     "height": 35
    },
    "colab_type": "code",
    "id": "bwnrliupOIb0",
    "outputId": "5180db16-a6a3-42c8-f47e-408fa99e2438"
   },
   "outputs": [],
   "source": [
    "def send_message(text):\n",
    "    account_sid = 'account_ID' #Can be obtained from Twilio Console\n",
    "    auth_token = 'auth_token'  #Can be obtained from Twilio Console\n",
    "    client = Client(account_sid, auth_token)\n",
    "\n",
    "    message = client.messages \\\n",
    "    .create(\n",
    "         from_='whatsapp:+14155238886',\n",
    "         body=text,\n",
    "         to='whatsapp:+918*********'\n",
    "     )"
   ]
  },
  {
   "cell_type": "code",
   "execution_count": 0,
   "metadata": {
    "colab": {},
    "colab_type": "code",
    "id": "lJFmGBp8R1uB"
   },
   "outputs": [],
   "source": [
    "'''\n",
    "Creating a custom callback in keras. For more info, see https://www.tensorflow.org/guide/keras/custom_callback and \n",
    "    https://keunwoochoi.wordpress.com/2016/07/16/keras-callbacks/\n",
    "'''\n",
    "\n",
    "class WhatsappCallBack(Callback): \n",
    "  def on_train_begin(self, logs = None):\n",
    "    self.losses = [] #Initializing the list of losses\n",
    "    send_message(\"The training has started\") #Sending message on whatsapp at the beginning of the training\n",
    "\n",
    "  def on_epoch_begin(self, epoch, logs = None):\n",
    "    pass\n",
    "    \n",
    "\n",
    "  def on_epoch_end(self, epoch, logs = None):\n",
    "    self.losses.append(logs['loss'])\n",
    "\n",
    "  def on_train_end(self, logs = None):\n",
    "    send_message(\"The training has ended\") #Sending message on whatsapp at the end of the training\n",
    "    send_message(self.losses)\n"
   ]
  },
  {
   "cell_type": "code",
   "execution_count": 0,
   "metadata": {
    "colab": {},
    "colab_type": "code",
    "id": "8Ctb1QzLkA2S"
   },
   "outputs": [],
   "source": [
    "cb = WhatsappCallBack() #Creating the Callback"
   ]
  },
  {
   "cell_type": "markdown",
   "metadata": {
    "colab_type": "text",
    "id": "69t8rTEMei4v"
   },
   "source": [
    "# Creating a Callback that changes the learning rate accoeding to the epoch number"
   ]
  },
  {
   "cell_type": "code",
   "execution_count": 0,
   "metadata": {
    "colab": {},
    "colab_type": "code",
    "id": "1AW25PF-eUYl"
   },
   "outputs": [],
   "source": [
    "class ChangeLRwithEpoch(Callback):\n",
    "  def __init__(self, factor=0.5):\n",
    "    super(ChangeLRwithEpoch, self).__init__()\n",
    "    self.factor = factor\n",
    "\n",
    "  def on_train_begin(self, logs = None):\n",
    "    self.losses = []\n",
    "\n",
    "  def on_epoch_begin(self, epoch, logs = None):\n",
    "    epoch+=1\n",
    "\n",
    "    if(epoch%2 == 0):\n",
    "      #Calculate the new LR\n",
    "      self.new_lr = K.get_value(self.model.optimizer.lr)*self.factor\n",
    "\n",
    "      #Set the new LR\n",
    "      K.set_value(self.model.optimizer.lr, self.new_lr)\n",
    "\n",
    "      #Display a print message to reflect the change\n",
    "      print(\"The new learning rate is: \"+ str(self.new_lr))"
   ]
  },
  {
   "cell_type": "code",
   "execution_count": 0,
   "metadata": {
    "colab": {},
    "colab_type": "code",
    "id": "it-ATVueeUWL"
   },
   "outputs": [],
   "source": [
    "cb2 = ChangeLRwithEpoch()"
   ]
  },
  {
   "cell_type": "markdown",
   "metadata": {
    "colab_type": "text",
    "id": "eHDU-yMRkdel"
   },
   "source": [
    "## Creating a sample dataset"
   ]
  },
  {
   "cell_type": "code",
   "execution_count": 0,
   "metadata": {
    "colab": {},
    "colab_type": "code",
    "id": "kE_Ld91xOLo_"
   },
   "outputs": [],
   "source": [
    "x,y = make_classification(n_samples=1000, n_classes=2, n_features=20)\n",
    "x_train, x_test, y_train, y_test = train_test_split(x,y, test_size = 0.3)"
   ]
  },
  {
   "cell_type": "code",
   "execution_count": 0,
   "metadata": {
    "colab": {},
    "colab_type": "code",
    "id": "mL2XMPzEQKxs"
   },
   "outputs": [],
   "source": [
    "def create_model():\n",
    "  model = Sequential()\n",
    "  model.add(Dense(60, input_dim=20, activation='relu'))\n",
    "  model.add(Dense(1, activation='sigmoid'))\n",
    "  model.compile(loss='binary_crossentropy', optimizer='adam', metrics=['accuracy'])\n",
    "\n",
    "  return model"
   ]
  },
  {
   "cell_type": "code",
   "execution_count": 0,
   "metadata": {
    "colab": {},
    "colab_type": "code",
    "id": "JYEzwG2BQzS4"
   },
   "outputs": [],
   "source": [
    "model = create_model()\n"
   ]
  },
  {
   "cell_type": "code",
   "execution_count": 36,
   "metadata": {
    "colab": {
     "base_uri": "https://localhost:8080/",
     "height": 208
    },
    "colab_type": "code",
    "id": "rfEPYNK_SQme",
    "outputId": "83ae9151-6ee4-47e5-dc88-5de7813e151f"
   },
   "outputs": [
    {
     "name": "stdout",
     "output_type": "stream",
     "text": [
      "Epoch 1/4\n",
      "22/22 [==============================] - 0s 2ms/step - loss: 0.1398 - accuracy: 0.9686\n",
      "The new learning rate is: 7.812500371073838e-06\n",
      "Epoch 2/4\n",
      "22/22 [==============================] - 0s 2ms/step - loss: 0.1396 - accuracy: 0.9686\n",
      "Epoch 3/4\n",
      "22/22 [==============================] - 0s 2ms/step - loss: 0.1399 - accuracy: 0.9686\n",
      "The new learning rate is: 3.906250185536919e-06\n",
      "Epoch 4/4\n",
      "22/22 [==============================] - 0s 2ms/step - loss: 0.1398 - accuracy: 0.9686\n"
     ]
    },
    {
     "data": {
      "text/plain": [
       "<tensorflow.python.keras.callbacks.History at 0x7f0da6d196d8>"
      ]
     },
     "execution_count": 36,
     "metadata": {
      "tags": []
     },
     "output_type": "execute_result"
    }
   ],
   "source": [
    "model.fit(x_train,y_train,batch_size=32, epochs=20, callbacks=[cb2], verbose=1) #Fitting the model"
   ]
  },
  {
   "cell_type": "code",
   "execution_count": 0,
   "metadata": {
    "colab": {},
    "colab_type": "code",
    "id": "vBwJGQHcRqcG"
   },
   "outputs": [],
   "source": [
    "model.evaluate(x_test, y_test)"
   ]
  },
  {
   "cell_type": "code",
   "execution_count": 0,
   "metadata": {
    "colab": {},
    "colab_type": "code",
    "id": "WvErPQ0jRrLr"
   },
   "outputs": [],
   "source": []
  }
 ],
 "metadata": {
  "accelerator": "GPU",
  "colab": {
   "collapsed_sections": [],
   "name": "CustomCallback.ipynb",
   "provenance": []
  },
  "kernelspec": {
   "display_name": "Python 3",
   "language": "python",
   "name": "python3"
  },
  "language_info": {
   "codemirror_mode": {
    "name": "ipython",
    "version": 3
   },
   "file_extension": ".py",
   "mimetype": "text/x-python",
   "name": "python",
   "nbconvert_exporter": "python",
   "pygments_lexer": "ipython3",
   "version": "3.7.6"
  }
 },
 "nbformat": 4,
 "nbformat_minor": 1
}
