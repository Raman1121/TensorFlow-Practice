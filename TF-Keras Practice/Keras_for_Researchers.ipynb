{
  "nbformat": 4,
  "nbformat_minor": 0,
  "metadata": {
    "colab": {
      "name": "Keras for Researchers.ipynb",
      "provenance": []
    },
    "kernelspec": {
      "name": "python3",
      "display_name": "Python 3"
    }
  },
  "cells": [
    {
      "cell_type": "markdown",
      "metadata": {
        "id": "Y1zCW0d-NBdL",
        "colab_type": "text"
      },
      "source": [
        "This notebook is inspired from @fchollet's notebook [tf.keras for Researchers: Crash Course](https://colab.research.google.com/drive/17u-pRZJnKN0gO5XZmq8n5A2bKGrfKEUg#scrollTo=uwttOFombD1F&forceEdit=true&sandboxMode=true). Great resource to learn about adding your custom layers, loss function, etc."
      ]
    },
    {
      "cell_type": "code",
      "metadata": {
        "id": "Jti8pRWF6WUD",
        "colab_type": "code",
        "colab": {}
      },
      "source": [
        "!pip install tensorflow==2.0.0"
      ],
      "execution_count": 0,
      "outputs": []
    },
    {
      "cell_type": "code",
      "metadata": {
        "id": "EnBxXzQB6lDW",
        "colab_type": "code",
        "colab": {
          "base_uri": "https://localhost:8080/",
          "height": 35
        },
        "outputId": "94ef61d9-4ffd-4f68-cef4-566332a37ddf"
      },
      "source": [
        "import tensorflow as tf\n",
        "from tensorflow.keras.layers import Layer\n",
        "\n",
        "tf.__version__"
      ],
      "execution_count": 3,
      "outputs": [
        {
          "output_type": "execute_result",
          "data": {
            "text/plain": [
              "'2.0.0'"
            ]
          },
          "metadata": {
            "tags": []
          },
          "execution_count": 3
        }
      ]
    },
    {
      "cell_type": "markdown",
      "metadata": {
        "id": "pqRLH0rN7sdf",
        "colab_type": "text"
      },
      "source": [
        "# Create a new (custom) layer"
      ]
    },
    {
      "cell_type": "code",
      "metadata": {
        "id": "6HSFtEI_6tVi",
        "colab_type": "code",
        "colab": {}
      },
      "source": [
        "class MyLayer(Layer):\n",
        "    '''\n",
        "    The __init__() method initializes the variables\n",
        "    The call() method is where the logic or computation is defined\n",
        "    '''\n",
        "    \n",
        "    def __init__(self, units=32, input_dim = 32):\n",
        "        #Calling the constructor of the Layer class in tensorflow\n",
        "        super(MyLayer, self).__init__()\n",
        "        \n",
        "        w_init = tf.random_normal_initializer()\n",
        "        self.W = tf.Variable(initial_value=w_init(shape=(input_dim, units), dtype='float32'),\n",
        "          trainable=True)\n",
        "        b_init = tf.zeros_initializer()\n",
        "        self.b = tf.Variable(initial_value=b_init(shape=(units,), dtype='float32'),\n",
        "          trainable=True)\n",
        "        \n",
        "    def call(self, inputs):\n",
        "        #Define computation here\n",
        "        return tf.matmul(inputs, self.W) + self.b\n"
      ],
      "execution_count": 0,
      "outputs": []
    },
    {
      "cell_type": "code",
      "metadata": {
        "id": "iIuj6GH87ihH",
        "colab_type": "code",
        "colab": {
          "base_uri": "https://localhost:8080/",
          "height": 87
        },
        "outputId": "3c9e2ec2-1512-4c47-afc4-e3c90488c12f"
      },
      "source": [
        "#Instantiate our Layer\n",
        "new_layer = MyLayer(4,2)\n",
        "y = new_layer(tf.ones((2, 2)))\n",
        "y"
      ],
      "execution_count": 5,
      "outputs": [
        {
          "output_type": "execute_result",
          "data": {
            "text/plain": [
              "<tf.Tensor: id=28, shape=(2, 4), dtype=float32, numpy=\n",
              "array([[-0.04563699, -0.02594603, -0.0306516 ,  0.02700859],\n",
              "       [-0.04563699, -0.02594603, -0.0306516 ,  0.02700859]],\n",
              "      dtype=float32)>"
            ]
          },
          "metadata": {
            "tags": []
          },
          "execution_count": 5
        }
      ]
    },
    {
      "cell_type": "markdown",
      "metadata": {
        "id": "hY5el4b77omj",
        "colab_type": "text"
      },
      "source": [
        "# add_weight method"
      ]
    },
    {
      "cell_type": "code",
      "metadata": {
        "id": "uKUK9E7v7ly1",
        "colab_type": "code",
        "colab": {}
      },
      "source": [
        "class MyLayer(Layer):\n",
        "    \n",
        "    def __init__(self, units=32):\n",
        "        super(MyLayer, self).__init__()\n",
        "        self.units = units\n",
        "    \n",
        "    def build(self, input_shape):\n",
        "        self.W = self.add_weight(shape=(input_shape[-1], self.units),\n",
        "                               initializer='random_normal',\n",
        "                               trainable=True, \n",
        "                                 name='{}_W'.format(self.name))\n",
        "        self.b = self.add_weight(shape=(self.units,),\n",
        "                               initializer='random_normal',\n",
        "                               trainable=True,\n",
        "                               name='{}_b'.format(self.name))\n",
        "    def call(self, inputs):\n",
        "        return tf.matmul(inputs, self.W) + self.b"
      ],
      "execution_count": 0,
      "outputs": []
    },
    {
      "cell_type": "markdown",
      "metadata": {
        "id": "f9ZabgVU7xz8",
        "colab_type": "text"
      },
      "source": [
        "# Nesting Layers\n"
      ]
    },
    {
      "cell_type": "code",
      "metadata": {
        "id": "V2F8UHiT7q0A",
        "colab_type": "code",
        "colab": {}
      },
      "source": [
        "class MLP():\n",
        "\n",
        "    def __init__(self):\n",
        "        super(MLP, self).__init__()\n",
        "        self.layer_1 = MyLayer(32) #MyLayer is a layer previously defined by us\n",
        "        self.layer_2 = MyLayer(64)\n",
        "        self.layer_3 = MyLayer(32)\n",
        "        \n",
        "    def call(self, inputs):\n",
        "        x = self.layer_1(inputs)\n",
        "        x = tf.nn.relu(x)\n",
        "        x = self.layer_2(x)\n",
        "        x = tf.nn.relu(x)\n",
        "        \n",
        "        return self.layer_3(x)\n",
        "    \n",
        "  "
      ],
      "execution_count": 0,
      "outputs": []
    },
    {
      "cell_type": "markdown",
      "metadata": {
        "id": "HtK79TOC74DO",
        "colab_type": "text"
      },
      "source": [
        "# Gradient Tape\n",
        "\n",
        "Tensorflow provides GradientTape API for automatic differentiation. "
      ]
    },
    {
      "cell_type": "code",
      "metadata": {
        "id": "8_08_GHZ71k8",
        "colab_type": "code",
        "colab": {
          "base_uri": "https://localhost:8080/",
          "height": 104
        },
        "outputId": "5df0e9b3-295e-4073-e7e4-1d42ba7ddfac"
      },
      "source": [
        "x = tf.ones((2, 2))\n",
        "\n",
        "with tf.GradientTape() as t:\n",
        "    t.watch(x) #To observe the operations on x\n",
        "    y = tf.reduce_sum(x)\n",
        "    z = tf.multiply(y, y)\n",
        "    \n",
        "    dz_dx = t.gradient(z,x) #4x^3\n",
        "    print(dz_dx.shape)\n",
        "    \n",
        "    for i in range(2):\n",
        "        for j in range(2):\n",
        "            print(dz_dx[i][j])"
      ],
      "execution_count": 8,
      "outputs": [
        {
          "output_type": "stream",
          "text": [
            "(2, 2)\n",
            "tf.Tensor(8.0, shape=(), dtype=float32)\n",
            "tf.Tensor(8.0, shape=(), dtype=float32)\n",
            "tf.Tensor(8.0, shape=(), dtype=float32)\n",
            "tf.Tensor(8.0, shape=(), dtype=float32)\n"
          ],
          "name": "stdout"
        }
      ]
    },
    {
      "cell_type": "markdown",
      "metadata": {
        "id": "s6-H6VYN9mj2",
        "colab_type": "text"
      },
      "source": [
        "# Adding a Loss layer"
      ]
    },
    {
      "cell_type": "code",
      "metadata": {
        "id": "TLvt1LOX77cF",
        "colab_type": "code",
        "colab": {
          "base_uri": "https://localhost:8080/",
          "height": 35
        },
        "outputId": "9d5bc664-affb-4dca-ffb4-8787df2e5986"
      },
      "source": [
        "class LossClass(Layer):\n",
        "  def __init__(self, rate):\n",
        "    super(LossClass, self).__init__()\n",
        "    self.rate = rate\n",
        "\n",
        "\n",
        "  def call(self, inputs):\n",
        "\n",
        "    # 'add_loss' is used to create a loss\n",
        "    self.add_loss(self.rate * tf.reduce_sum(inputs))\n",
        "    return inputs\n",
        "\n",
        "#Using this loss in a MLP\n",
        "\n",
        "class MLP2(Layer):\n",
        "  \"\"\"Stack of Linear layers with a sparsity regularization loss.\"\"\"\n",
        "\n",
        "  def __init__(self):\n",
        "      super(MLP2, self).__init__()\n",
        "      self.linear_1 = MyLayer(32)\n",
        "      self.loss = LossClass(1e-2)\n",
        "      self.linear_3 = MyLayer(10)\n",
        "\n",
        "  def call(self, inputs):\n",
        "      x = self.linear_1(inputs)\n",
        "      x = tf.nn.relu(x)\n",
        "      x = self.loss(x)\n",
        "      return self.linear_3(x)\n",
        "    \n",
        "mlp = MLP2()\n",
        "y = mlp(tf.ones((10, 10)))\n",
        "\n",
        "print(mlp.losses)\n",
        "\n",
        "\n",
        "\n"
      ],
      "execution_count": 18,
      "outputs": [
        {
          "output_type": "stream",
          "text": [
            "[<tf.Tensor: id=134, shape=(), dtype=float32, numpy=0.24462295>]\n"
          ],
          "name": "stdout"
        }
      ]
    },
    {
      "cell_type": "markdown",
      "metadata": {
        "id": "b4W98dEEGRzU",
        "colab_type": "text"
      },
      "source": [
        "# Creating a Dropout Layer"
      ]
    },
    {
      "cell_type": "code",
      "metadata": {
        "id": "oTNtWUj08Asg",
        "colab_type": "code",
        "colab": {}
      },
      "source": [
        "class Dropout(Layer):\n",
        "\n",
        "  def __init__(self, rate=0.5):\n",
        "    super(Dropout, self).__init__()\n",
        "    self.rate = rate\n",
        "\n",
        "  def call(self, inputs, training = None):\n",
        "    if training:\n",
        "      return tf.nn.dropout(inputs, rate = self.rate)\n",
        "    return inputs\n",
        "\n",
        "class MLPwithDropout(Layer):\n",
        "\n",
        "  def __init__(self):\n",
        "\n",
        "    super(MLPwithDropout, self).__init__()\n",
        "    self.layer_1 = MyLayer(32)\n",
        "    self.dropout = Dropout(0.5)\n",
        "    self.layer_2 = MyLayer(10)\n",
        "\n",
        "  def call(self, inputs, training = None):\n",
        "    x = self.layer_1(inputs)\n",
        "    x = tf.nn.relu(x)\n",
        "    x = self.dropout(x, training = training)\n",
        "\n",
        "    return self.layer_2(x)\n",
        "  \n",
        "obj = MLPwithDropout()\n",
        "y_train = obj(tf.ones((2, 2)), training=True)\n",
        "y_test = obj(tf.ones((2, 2)), training=False)"
      ],
      "execution_count": 0,
      "outputs": []
    },
    {
      "cell_type": "code",
      "metadata": {
        "id": "A1WcZnmpKZFF",
        "colab_type": "code",
        "colab": {}
      },
      "source": [
        ""
      ],
      "execution_count": 0,
      "outputs": []
    }
  ]
}