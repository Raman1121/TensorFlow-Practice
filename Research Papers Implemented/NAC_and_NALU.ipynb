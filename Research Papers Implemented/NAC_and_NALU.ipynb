{
  "nbformat": 4,
  "nbformat_minor": 0,
  "metadata": {
    "colab": {
      "name": "NAC and NALU.ipynb",
      "provenance": []
    },
    "kernelspec": {
      "name": "python3",
      "display_name": "Python 3"
    }
  },
  "cells": [
    {
      "cell_type": "markdown",
      "metadata": {
        "id": "ib1gXOY61Ayv",
        "colab_type": "text"
      },
      "source": [
        "Implementation of the [paper](https://arxiv.org/abs/1808.00508) Neural Arithmetic Logic Units. Inspired by Sayak Paul's [notebook](https://github.com/sayakpaul/TF-2.0-Hacks/tree/master/NALU%20in%20TF%202.0) "
      ]
    },
    {
      "cell_type": "code",
      "metadata": {
        "id": "0sHyCcf5aUDk",
        "colab_type": "code",
        "colab": {}
      },
      "source": [
        "!pip install tensorflow==2.0.0"
      ],
      "execution_count": 0,
      "outputs": []
    },
    {
      "cell_type": "code",
      "metadata": {
        "id": "OMQBG2uAknZh",
        "colab_type": "code",
        "colab": {}
      },
      "source": [
        "import numpy as np\n",
        "import tensorflow as tf\n",
        "from tensorflow.keras.layers import Layer\n",
        "import matplotlib.pyplot as plt\n"
      ],
      "execution_count": 0,
      "outputs": []
    },
    {
      "cell_type": "code",
      "metadata": {
        "id": "nMff7aUyl2ks",
        "colab_type": "code",
        "colab": {
          "base_uri": "https://localhost:8080/",
          "height": 35
        },
        "outputId": "eb935163-02d1-4066-910d-db03a4ea5a97"
      },
      "source": [
        "tf.__version__\n"
      ],
      "execution_count": 2,
      "outputs": [
        {
          "output_type": "execute_result",
          "data": {
            "text/plain": [
              "'2.0.0'"
            ]
          },
          "metadata": {
            "tags": []
          },
          "execution_count": 2
        }
      ]
    },
    {
      "cell_type": "code",
      "metadata": {
        "id": "c2pn4a7Jl4VE",
        "colab_type": "code",
        "colab": {}
      },
      "source": [
        "def generate_data(min_val, max_val, observations, op):\n",
        "    data = np.random.uniform(min_val, max_val, size=(observations, 2))\n",
        "    if op == '+':\n",
        "        target = data[:, 0] + data[:, 1]\n",
        "    elif op == '-':\n",
        "        target = data[:, 0] - data[:, 1]\n",
        "    elif op == '*':\n",
        "        target = data[:, 0] * data[:, 1]\n",
        "    elif op == '/':\n",
        "        target = data[:, 0] / data[:, 1]\n",
        "    elif op == '^2':\n",
        "        data = np.random.uniform(min_val, max_val, size=(observations, 1))\n",
        "        target = data ** 2\n",
        "    elif op == 'sqrt':\n",
        "        data = np.random.uniform(min_val, max_val, size=(observations, 1))\n",
        "        target = np.sqrt(data)\n",
        "    \n",
        "    return data, target"
      ],
      "execution_count": 0,
      "outputs": []
    },
    {
      "cell_type": "code",
      "metadata": {
        "id": "Y0jc6gBdl7kL",
        "colab_type": "code",
        "colab": {}
      },
      "source": [
        "class NAC_Layer(Layer):\n",
        "  def __init__(self, num_outputs):\n",
        "    super(NAC_Layer, self).__init__()\n",
        "    self.num_outputs = num_outputs\n",
        "\n",
        "  def build(self, input_shape):\n",
        "    shape = (input_shape[-1], self.num_outputs)\n",
        "    self.W_hat = self.add_variable(\"W_hat\",\n",
        "                                    shape=shape, initializer=tf.initializers.GlorotUniform())\n",
        "    self.M_hat = self.add_variable(\"M_hat\",\n",
        "                                    shape=shape, initializer=tf.initializers.GlorotUniform())\n",
        "    \n",
        "    print(self.W_hat.shape, self.M_hat.shape)\n",
        "    \n",
        "  def call(self, x):\n",
        "    w = tf.nn.tanh(self.W_hat)*tf.nn.sigmoid(self.M_hat)\n",
        "    return (tf.matmul(x, w))\n",
        "\n",
        "\n"
      ],
      "execution_count": 0,
      "outputs": []
    },
    {
      "cell_type": "code",
      "metadata": {
        "id": "lPxvdL8im7RT",
        "colab_type": "code",
        "colab": {}
      },
      "source": [
        "op = '+'\n",
        "X_train, y_train = generate_data(20, 30, 10000, op)\n",
        "X_test, y_test = generate_data(10, 40, 7000, op) #The test points are generated out of the training range"
      ],
      "execution_count": 0,
      "outputs": []
    },
    {
      "cell_type": "code",
      "metadata": {
        "id": "o8GKsoSrm8Pb",
        "colab_type": "code",
        "colab": {
          "base_uri": "https://localhost:8080/",
          "height": 159
        },
        "outputId": "e7e1ced4-8f82-464c-8ae0-7f06d7c5eaaf"
      },
      "source": [
        "# Define a NAC layer with the output shape\n",
        "nac_layer = NAC_Layer(1)\n",
        "# Supply the input shape\n",
        "pred = nac_layer(X_train)\n"
      ],
      "execution_count": 31,
      "outputs": [
        {
          "output_type": "stream",
          "text": [
            "(2, 1) (2, 1)\n",
            "WARNING:tensorflow:Layer nac__layer_8 is casting an input tensor from dtype float64 to the layer's dtype of float32, which is new behavior in TensorFlow 2.  The layer has dtype float32 because it's dtype defaults to floatx.\n",
            "\n",
            "If you intended to run this layer in float32, you can safely ignore this warning. If in doubt, this warning is likely only an issue if you are porting a TensorFlow 1.X model to TensorFlow 2.\n",
            "\n",
            "To change all layers to have dtype float64 by default, call `tf.keras.backend.set_floatx('float64')`. To change just this layer, pass dtype='float64' to the layer constructor. If you are the author of this layer, you can disable autocasting by passing autocast=False to the base Layer constructor.\n",
            "\n"
          ],
          "name": "stdout"
        }
      ]
    },
    {
      "cell_type": "code",
      "metadata": {
        "id": "JpUYMuPBvaWy",
        "colab_type": "code",
        "colab": {
          "base_uri": "https://localhost:8080/",
          "height": 35
        },
        "outputId": "b958be56-b14a-49ff-b5fc-c80d1990333e"
      },
      "source": [
        "y_train.shape, tf.squeeze(pred).shape"
      ],
      "execution_count": 40,
      "outputs": [
        {
          "output_type": "execute_result",
          "data": {
            "text/plain": [
              "((10000,), TensorShape([10000]))"
            ]
          },
          "metadata": {
            "tags": []
          },
          "execution_count": 40
        }
      ]
    },
    {
      "cell_type": "code",
      "metadata": {
        "id": "6JW3rZxxm_U6",
        "colab_type": "code",
        "colab": {}
      },
      "source": [
        "loss_fn = tf.keras.losses.MeanSquaredError()\n",
        "opt = tf.keras.optimizers.Adam(lr=0.01)"
      ],
      "execution_count": 0,
      "outputs": []
    },
    {
      "cell_type": "code",
      "metadata": {
        "id": "8mXWGvgtnvTZ",
        "colab_type": "code",
        "colab": {}
      },
      "source": [
        "@tf.function\n",
        "def train_fn(x_train, y_train, nac_layer):\n",
        "  with tf.GradientTape() as tape:\n",
        "    #Forward Pass\n",
        "    preds = nac_layer(x_train)\n",
        "\n",
        "    #Calculate loss\n",
        "    error = loss_fn(y_train, tf.squeeze(preds))\n",
        "    #error = loss(y_train, preds)\n",
        "\n",
        "  #Calculate Gradients\n",
        "  grads = tape.gradient(error, nac_layer.trainable_variables)\n",
        "\n",
        "  #apply gradients\n",
        "  opt.apply_gradients(zip(grads, nac_layer.trainable_variables))\n",
        "\n",
        "  return error\n"
      ],
      "execution_count": 0,
      "outputs": []
    },
    {
      "cell_type": "code",
      "metadata": {
        "id": "lvJW6E19wVpl",
        "colab_type": "code",
        "colab": {}
      },
      "source": [
        "total_train_loss = []\n",
        "\n",
        "for i in range(1, 10000+1):\n",
        "\n",
        "  train_loss = train_fn(X_train, y_train, nac_layer)\n",
        "  total_train_loss.append(train_loss)\n"
      ],
      "execution_count": 0,
      "outputs": []
    },
    {
      "cell_type": "code",
      "metadata": {
        "id": "ajeR5HnRxtIG",
        "colab_type": "code",
        "colab": {
          "base_uri": "https://localhost:8080/",
          "height": 265
        },
        "outputId": "387c1b02-2dd7-4655-ac62-dfeaa2d0a5b1"
      },
      "source": [
        "plt.plot(total_train_loss)\n",
        "plt.show()"
      ],
      "execution_count": 70,
      "outputs": [
        {
          "output_type": "display_data",
          "data": {
            "image/png": "[encoded data removed]",
            "text/plain": [
              "<Figure size 432x288 with 1 Axes>"
            ]
          },
          "metadata": {
            "tags": []
          }
        }
      ]
    },
    {
      "cell_type": "code",
      "metadata": {
        "id": "Am06Lb4nzv98",
        "colab_type": "code",
        "colab": {
          "base_uri": "https://localhost:8080/",
          "height": 166
        },
        "outputId": "f0baa4a2-677c-4cdc-e7ee-d40823da5b68"
      },
      "source": [
        "total_train_loss[1]"
      ],
      "execution_count": 68,
      "outputs": [
        {
          "output_type": "error",
          "ename": "IndexError",
          "evalue": "ignored",
          "traceback": [
            "\u001b[0;31m---------------------------------------------------------------------------\u001b[0m",
            "\u001b[0;31mIndexError\u001b[0m                                Traceback (most recent call last)",
            "\u001b[0;32m<ipython-input-68-1aa1ac8a901f>\u001b[0m in \u001b[0;36m<module>\u001b[0;34m()\u001b[0m\n\u001b[0;32m----> 1\u001b[0;31m \u001b[0mtotal_train_loss\u001b[0m\u001b[0;34m[\u001b[0m\u001b[0;36m1\u001b[0m\u001b[0;34m]\u001b[0m\u001b[0;34m\u001b[0m\u001b[0;34m\u001b[0m\u001b[0m\n\u001b[0m",
            "\u001b[0;31mIndexError\u001b[0m: list index out of range"
          ]
        }
      ]
    },
    {
      "cell_type": "code",
      "metadata": {
        "id": "lj1xkNqE0FYP",
        "colab_type": "code",
        "colab": {
          "base_uri": "https://localhost:8080/",
          "height": 35
        },
        "outputId": "9d11365c-368b-44c2-ee8a-b1481c422769"
      },
      "source": [
        "len(total_train_loss)"
      ],
      "execution_count": 67,
      "outputs": [
        {
          "output_type": "execute_result",
          "data": {
            "text/plain": [
              "1"
            ]
          },
          "metadata": {
            "tags": []
          },
          "execution_count": 67
        }
      ]
    },
    {
      "cell_type": "code",
      "metadata": {
        "id": "s66J_lu52OT6",
        "colab_type": "code",
        "colab": {}
      },
      "source": [
        ""
      ],
      "execution_count": 0,
      "outputs": []
    }
  ]
}