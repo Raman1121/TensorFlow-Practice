{
 "cells": [
  {
   "cell_type": "code",
   "execution_count": 5,
   "metadata": {},
   "outputs": [],
   "source": [
    "import cv2\n",
    "import os\n",
    "import numpy as np"
   ]
  },
  {
   "cell_type": "code",
   "execution_count": 6,
   "metadata": {},
   "outputs": [],
   "source": [
    "fgbg = cv2.bgsegm.createBackgroundSubtractorGMG() #Background Subtractor\n",
    "\n",
    "captured = False\n",
    "total = 0\n",
    "frames = 0\n",
    "# open a pointer to the video file initialize the width and height of\n",
    "# the frame\n",
    "cap = cv2.VideoCapture('Videos/batman_who_laughs_7.mp4')\n",
    "(W, H) = (None, None)\n"
   ]
  },
  {
   "cell_type": "code",
   "execution_count": 7,
   "metadata": {},
   "outputs": [],
   "source": [
    "while True:\n",
    "    ret, frame = cap.read()\n",
    "    (W,H) = frame.shape[:2]\n",
    "    \n",
    "    #Break at the end of video\n",
    "    if frame is None: \n",
    "        break \n",
    "    \n",
    "    img_copy = frame.copy()\n",
    "    total+=1\n",
    "    mask = fgbg.apply(img_copy)\n",
    "    \n",
    "    #Removing Noise\n",
    "    mask1 = cv2.erode(mask, None, iterations=2)\n",
    "    mask1 = cv2.dilate(mask1, None, iterations=2)\n",
    "    \n",
    "    #cv2.imshow('Original', frame)\n",
    "    #cv2.imshow('Mask', mask)\n",
    "    #cv2.imshow('Noise Removed', mask1)\n",
    "    \n",
    "    # compute the percentage of the mask that is \"foreground\"\n",
    "    p = (cv2.countNonZero(mask1) / float(W * H)) * 100\n",
    "    \n",
    "    if(p>1.0 and not captured and frames > 200):\n",
    "        #Show only those frame\n",
    "        cv2.imshow(\"Captured\", frame)\n",
    "        filename = str(total)+'.png'\n",
    "        cv2.imwrite(\"Captured Images/\"+filename, frame)\n",
    "        captured = True\n",
    "        total+=1\n",
    "        \n",
    "    frames+=1\n",
    "        \n",
    "    key = cv2.waitKey(1) & 0xFF\n",
    "    if key == ord('q'):\n",
    "        break\n",
    "    \n",
    "cap.release()\n",
    "cv2.destroyAllWindows()"
   ]
  },
  {
   "cell_type": "code",
   "execution_count": null,
   "metadata": {},
   "outputs": [],
   "source": []
  }
 ],
 "metadata": {
  "kernelspec": {
   "display_name": "Python 3",
   "language": "python",
   "name": "python3"
  },
  "language_info": {
   "codemirror_mode": {
    "name": "ipython",
    "version": 3
   },
   "file_extension": ".py",
   "mimetype": "text/x-python",
   "name": "python",
   "nbconvert_exporter": "python",
   "pygments_lexer": "ipython3",
   "version": "3.7.6"
  }
 },
 "nbformat": 4,
 "nbformat_minor": 4
}
